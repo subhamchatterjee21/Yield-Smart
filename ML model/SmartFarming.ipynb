{
  "nbformat": 4,
  "nbformat_minor": 0,
  "metadata": {
    "colab": {
      "provenance": [],
      "authorship_tag": "ABX9TyMBbtqri8NeTT1ODQWFvt5H",
      "include_colab_link": true
    },
    "kernelspec": {
      "name": "python3",
      "display_name": "Python 3"
    },
    "language_info": {
      "name": "python"
    }
  },
  "cells": [
    {
      "cell_type": "markdown",
      "metadata": {
        "id": "view-in-github",
        "colab_type": "text"
      },
      "source": [
        "<a href=\"https://colab.research.google.com/github/subhamchatterjee21/Smart-Farming-system/blob/main/SmartFarming.ipynb\" target=\"_parent\"><img src=\"https://colab.research.google.com/assets/colab-badge.svg\" alt=\"Open In Colab\"/></a>"
      ]
    },
    {
      "cell_type": "markdown",
      "source": [
        "**Smart-Farming-system**"
      ],
      "metadata": {
        "id": "3Yud_iN5dSXe"
      }
    },
    {
      "cell_type": "code",
      "execution_count": null,
      "metadata": {
        "id": "zqxXaR3S2H_3"
      },
      "outputs": [],
      "source": [
        "import numpy as np\n",
        "import pandas as pd\n",
        "import matplotlib.pyplot as plt\n",
        "%matplotlib inline"
      ]
    },
    {
      "cell_type": "code",
      "source": [
        "data = pd.read_csv(\"Crop_recommendation.csv\")\n"
      ],
      "metadata": {
        "id": "mnl3sZxJ28tv"
      },
      "execution_count": null,
      "outputs": []
    },
    {
      "cell_type": "code",
      "source": [
        "data.info()"
      ],
      "metadata": {
        "id": "96L0URPW3n5D"
      },
      "execution_count": null,
      "outputs": []
    },
    {
      "cell_type": "code",
      "source": [
        "data.head(3)"
      ],
      "metadata": {
        "id": "WSV5Z3lWLj5t"
      },
      "execution_count": null,
      "outputs": []
    },
    {
      "cell_type": "code",
      "source": [
        "data['label'].value_counts()"
      ],
      "metadata": {
        "id": "FAat-jbF44W7"
      },
      "execution_count": null,
      "outputs": []
    },
    {
      "cell_type": "code",
      "source": [
        "from sklearn.model_selection import train_test_split\n",
        "from sklearn.ensemble import RandomForestClassifier\n",
        "from sklearn.ensemble import RandomForestRegressor\n",
        "from sklearn.metrics import f1_score\n",
        "from sklearn.metrics import r2_score\n",
        "import pickle"
      ],
      "metadata": {
        "id": "HIimPiZ16gM_"
      },
      "execution_count": null,
      "outputs": []
    },
    {
      "cell_type": "code",
      "source": [
        "input_para = ['N', 'P', 'K', 'temperature', 'humidity', 'ph']\n",
        "output_para=['rainfall','label']"
      ],
      "metadata": {
        "id": "P5oUZN8m95sN"
      },
      "execution_count": null,
      "outputs": []
    },
    {
      "cell_type": "code",
      "source": [
        "x = data[input_para].values\n",
        "y = data[output_para].values"
      ],
      "metadata": {
        "id": "T6E5FYfR8SBr"
      },
      "execution_count": null,
      "outputs": []
    },
    {
      "cell_type": "code",
      "source": [
        "x_train, x_test, y_train, y_test = train_test_split(x, y, test_size = 0.3, random_state = 42)"
      ],
      "metadata": {
        "id": "TZeiRXcY-2gq"
      },
      "execution_count": null,
      "outputs": []
    },
    {
      "cell_type": "markdown",
      "source": [
        "# ***Models[RandomForest.Clsssifier and RandomForest. Regression]***"
      ],
      "metadata": {
        "id": "BHIzDuWF5dEh"
      }
    },
    {
      "cell_type": "code",
      "source": [
        "model = RandomForestClassifier(n_estimators=100, random_state=42)\n",
        "model.fit(x_train, y_train[:, 1])  # Train only on the label column in y_train"
      ],
      "metadata": {
        "id": "Mu0tp9hR_q8O"
      },
      "execution_count": null,
      "outputs": []
    },
    {
      "cell_type": "code",
      "source": [
        "pickle.dump(model, open(\"model.pkl\", \"wb\"))"
      ],
      "metadata": {
        "id": "LlYpltpPDVRv"
      },
      "execution_count": null,
      "outputs": []
    },
    {
      "cell_type": "code",
      "source": [
        "lbl_pred = model.predict(x_test)"
      ],
      "metadata": {
        "id": "2fw8Je4PGbkk"
      },
      "execution_count": null,
      "outputs": []
    },
    {
      "cell_type": "code",
      "source": [
        "rain_model = RandomForestRegressor(n_estimators=100, random_state=42)\n",
        "rain_model.fit(x_train, y_train[:, 0])"
      ],
      "metadata": {
        "id": "LK-hx1zpJBSQ"
      },
      "execution_count": null,
      "outputs": []
    },
    {
      "cell_type": "code",
      "source": [
        "pickle.dump(rain_model, open('rain_model.pkl', 'wb'))"
      ],
      "metadata": {
        "id": "XlDPRjMSDZnU"
      },
      "execution_count": null,
      "outputs": []
    },
    {
      "cell_type": "code",
      "source": [
        "rain_pred = rain_model.predict(x_test)"
      ],
      "metadata": {
        "id": "Xl3LYQziJRIA"
      },
      "execution_count": null,
      "outputs": []
    },
    {
      "cell_type": "code",
      "source": [
        "f1 = f1_score(y_test[:, 1], lbl_pred, average='weighted')\n",
        "print(\"F1 Score:\", f1)"
      ],
      "metadata": {
        "id": "GOVpTy_VPBWn",
        "colab": {
          "base_uri": "https://localhost:8080/"
        },
        "outputId": "c3b05901-300a-4ccc-e066-2c3b86c0ac24"
      },
      "execution_count": null,
      "outputs": [
        {
          "output_type": "stream",
          "name": "stdout",
          "text": [
            "F1 Score: 0.9697866322403949\n"
          ]
        }
      ]
    },
    {
      "cell_type": "code",
      "source": [
        "r2 = r2_score(y_test[:, 0], rain_pred)\n",
        "print(\"R-squared:\", r2)"
      ],
      "metadata": {
        "id": "adsuGpGVQG0R",
        "colab": {
          "base_uri": "https://localhost:8080/"
        },
        "outputId": "5491e169-74b8-4efa-ecf5-368f58ab3099"
      },
      "execution_count": null,
      "outputs": [
        {
          "output_type": "stream",
          "name": "stdout",
          "text": [
            "R-squared: 0.7277186833186403\n"
          ]
        }
      ]
    },
    {
      "cell_type": "code",
      "source": [
        "x_new = np.array([[17,64,18,36.75087,58.25799,6.028]])  # Example data point\n",
        "crop_new_pred = model.predict(x_new)\n",
        "rain_new_pred = rain_model.predict(x_new)\n",
        "print(\"Predicted Crop:\", crop_new_pred[0])\n",
        "print(\"required rain:\", rain_new_pred[0])\n"
      ],
      "metadata": {
        "id": "7g7azdv8HJYG",
        "colab": {
          "base_uri": "https://localhost:8080/"
        },
        "outputId": "305d5591-3252-45bb-d745-1e69c6f375f5"
      },
      "execution_count": null,
      "outputs": [
        {
          "output_type": "stream",
          "name": "stdout",
          "text": [
            "Predicted Crop: pigeonpeas\n",
            "required rain: 126.06633205940003\n"
          ]
        }
      ]
    }
  ]
}